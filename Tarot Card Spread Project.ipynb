{
 "cells": [
  {
   "cell_type": "markdown",
   "id": "7b9edac8-c566-4c65-bab2-5d2c57c8fff3",
   "metadata": {},
   "source": [
    "# Tarot Card Spread Project: Learning Python Dictionaries"
   ]
  },
  {
   "cell_type": "markdown",
   "id": "d4304355-4ade-4bff-aeed-a374ebbd0fad",
   "metadata": {},
   "source": [
    "In this notebook, I'm documenting my journey of learning about Python dictionaries and how I applied this knowledge to create a small project: a tarot card spread.\n",
    "\n",
    "## Learning Python Dictionaries\n",
    "\n",
    "Python dictionaries are powerful data structures that allow mapping of keys to values. Each key in a dictionary is unique and associated with a specific value. As part of my learning process, I explored how dictionaries work and practiced manipulating them.\n",
    "\n",
    "## Tarot Card Spread Project\n",
    "\n",
    "After gaining familiarity with dictionaries, I decided to create a small project to apply what I learned. The project involves performing a random three-card tarot card spread using a predefined set of tarot cards.\n",
    "\n",
    "### Project Code"
   ]
  },
  {
   "cell_type": "markdown",
   "id": "92d96b49-4ea2-4f79-8e65-ca9957bcefbf",
   "metadata": {},
   "source": [
    "First we strat with a simple code, just to understand how it works."
   ]
  },
  {
   "cell_type": "code",
   "execution_count": 1,
   "id": "ee1bfa27-5d76-4e76-89f2-d042c5861b8e",
   "metadata": {
    "tags": []
   },
   "outputs": [
    {
     "name": "stdout",
     "output_type": "stream",
     "text": [
      "{'past': 'Death', 'present': 'The Fool', 'future': 'Wheel of Fortune'}\n",
      "Your past is the Death card.\n",
      "Your present is the The Fool card.\n",
      "Your future is the Wheel of Fortune card.\n"
     ]
    }
   ],
   "source": [
    "# Dictionary of tarot cards\n",
    "tarot = {\n",
    "    1: \"The Magician\", 2: \"The High Priestess\", 3: \"The Empress\", 4: \"The Emperor\",\n",
    "    5: \"The Hierophant\", 6: \"The Lovers\", 7: \"The Chariot\", 8: \"Strength\",\n",
    "    9: \"The Hermit\", 10: \"Wheel of Fortune\", 11: \"Justice\", 12: \"The Hanged Man\",\n",
    "    13: \"Death\", 14: \"Temperance\", 15: \"The Devil\", 16: \"The Tower\",\n",
    "    17: \"The Star\", 18: \"The Moon\", 19: \"The Sun\", 20: \"Judgement\",\n",
    "    21: \"The World\", 22: \"The Fool\"\n",
    "}\n",
    "# Define the spread dictionary and perform tarot card selection\n",
    "spread = {}\n",
    "spread[\"past\"] = tarot.pop(13)\n",
    "spread[\"present\"] = tarot.pop(22)\n",
    "spread[\"future\"] = tarot.pop(10)\n",
    "print(spread)\n",
    "\n",
    "for i, y in spread.items():\n",
    "    print(\"Your \" + i + \" is the \" + y + \" card.\")"
   ]
  },
  {
   "cell_type": "markdown",
   "id": "51925a8b-573a-4dd3-871d-2ea51a2ea1a3",
   "metadata": {},
   "source": [
    "### Let's make it fun. What if we could make the card selection really random?"
   ]
  },
  {
   "cell_type": "code",
   "execution_count": 2,
   "id": "2d5fab40-27d6-4c25-a5bb-a99699089345",
   "metadata": {
    "tags": []
   },
   "outputs": [
    {
     "name": "stdout",
     "output_type": "stream",
     "text": [
      "Your past is the The Star card.\n",
      "Your present is the The Magician card.\n",
      "Your future is the The World card.\n"
     ]
    }
   ],
   "source": [
    "# Importing necessary libraries\n",
    "import random\n",
    "\n",
    "# Dictionary of tarot cards\n",
    "tarot = {\n",
    "    1: \"The Magician\", 2: \"The High Priestess\", 3: \"The Empress\", 4: \"The Emperor\",\n",
    "    5: \"The Hierophant\", 6: \"The Lovers\", 7: \"The Chariot\", 8: \"Strength\",\n",
    "    9: \"The Hermit\", 10: \"Wheel of Fortune\", 11: \"Justice\", 12: \"The Hanged Man\",\n",
    "    13: \"Death\", 14: \"Temperance\", 15: \"The Devil\", 16: \"The Tower\",\n",
    "    17: \"The Star\", 18: \"The Moon\", 19: \"The Sun\", 20: \"Judgement\",\n",
    "    21: \"The World\", 22: \"The Fool\"\n",
    "}\n",
    "\n",
    "# Function to perform a random tarot card spread\n",
    "def perform_tarot_spread():\n",
    "    spread = {}\n",
    "\n",
    "    for i in [\"past\", \"present\", \"future\"]:\n",
    "        card_left = list(tarot.keys())\n",
    "        spread[i] = tarot.pop(random.choice(card_left))\n",
    "        print(\"Your {} is the {} card.\".format(i, spread.get(i)))\n",
    "\n",
    "    return spread\n",
    "\n",
    "# Performing the tarot card spread\n",
    "spread_result = perform_tarot_spread()"
   ]
  },
  {
   "cell_type": "markdown",
   "id": "45e4698b-542f-43cb-b6ff-da0b4b235f27",
   "metadata": {},
   "source": [
    "### Let's try one more time"
   ]
  },
  {
   "cell_type": "code",
   "execution_count": 3,
   "id": "ea844f3b-dc01-45da-a586-824e5393b378",
   "metadata": {
    "tags": []
   },
   "outputs": [
    {
     "name": "stdout",
     "output_type": "stream",
     "text": [
      "Your past is the The Hanged Man card.\n",
      "Your present is the Death card.\n",
      "Your future is the Judgement card.\n"
     ]
    }
   ],
   "source": [
    "# Performing the tarot card spread\n",
    "spread_result = perform_tarot_spread()"
   ]
  },
  {
   "cell_type": "markdown",
   "id": "be359050-8544-4b8e-ad99-f1d8f493f2d5",
   "metadata": {},
   "source": [
    "### Conclusion\n",
    "Through this project, I've not only reinforced my understanding of Python dictionaries but also learned how to apply them in a practical context. The tarot card spread project demonstrates how dictionaries can be used to manage and manipulate structured data effectively."
   ]
  }
 ],
 "metadata": {
  "kernelspec": {
   "display_name": "Python 3 (ipykernel)",
   "language": "python",
   "name": "python3"
  },
  "language_info": {
   "codemirror_mode": {
    "name": "ipython",
    "version": 3
   },
   "file_extension": ".py",
   "mimetype": "text/x-python",
   "name": "python",
   "nbconvert_exporter": "python",
   "pygments_lexer": "ipython3",
   "version": "3.11.5"
  }
 },
 "nbformat": 4,
 "nbformat_minor": 5
}
