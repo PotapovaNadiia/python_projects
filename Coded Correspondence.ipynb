{
 "cells": [
  {
   "cell_type": "markdown",
   "id": "86a856e8-ca66-4013-9491-e867a7e8d8de",
   "metadata": {},
   "source": [
    "# Casual Coded Correspondence: The Project"
   ]
  },
  {
   "cell_type": "markdown",
   "id": "6ebb3fa3-feb7-49ad-8323-cdff6c9565c5",
   "metadata": {},
   "source": [
    "## Project Goals\n",
    "You and your pen pal, Vishal, have been exchanging letters for some time now. Recently, he has become interested in cryptography and the two of you have started sending encoded messages within your letters.\n",
    "In this project, you will use your Python skills to decipher the messages you receive and to encode your own responses! Put your programming skills to the test with these fun cryptography puzzles.\n",
    "\n",
    "### Here is his most recent letter:\n",
    "\n",
    "    Hey there! How have you been? I've been great! I just learned about this really cool type of cipher called a  Caesar Cipher. Here's how it works: You take your message, something like \"hello\" and then you shift all of the letters by a certain offset. For example, if I chose an offset of 3 and a message of \"hello\", I would code my message by shifting each letter 3 places to the left (with respect to the alphabet). So \"h\" becomes \"e\", \"e\" becomes, \"b\", \"l\" becomes \"i\", and \"o\" becomes \"l\". Then I have my coded message,\"ebiil\"! Now I can send you my message and the offset and you can decode it. The best thing is that Julius Caesar himself used this cipher, that's why it's called the Caesar Cipher! Isn't that so cool! Okay, now I'm going to send you a longer coded message that you have to decode yourself!\n",
    "\n",
    "    xuo jxuhu! jxyi yi qd unqcfbu ev q squiqh syfxuh. muhu oek qrbu je tusetu yj? y xefu ie! iudt cu q cuiiqwu rqsa myjx jxu iqcu evviuj!\n",
    "\n",
    "    This message has an offset of 10. Can you decode it?"
   ]
  },
  {
   "cell_type": "markdown",
   "id": "c894a66d-d74c-4556-92d7-c00512e8f6cb",
   "metadata": {},
   "source": [
    "## TASK 1. DECODE THE MESSAGE"
   ]
  },
  {
   "cell_type": "code",
   "execution_count": 2,
   "id": "f378a391-54d5-4861-be76-6e82b36d5478",
   "metadata": {
    "tags": []
   },
   "outputs": [
    {
     "name": "stdout",
     "output_type": "stream",
     "text": [
      "Hey There! This Is An Example Of A Caesar Cipher. Were You Able To Decode It? I Hope So! Send Me A Message Back With The Same Offset!\n"
     ]
    }
   ],
   "source": [
    "# Define the alphabet and special characters used in the message\n",
    "alpha = [\"a\", \"b\", \"c\", \"d\", \"e\", \"f\", \"g\", \"h\", \"i\", \"j\", \"k\", \"l\", \"m\", \"n\", \"o\", \"p\", \"q\", \"r\", \"s\", \"t\", \"u\", \"v\", \"w\", \"x\", \"y\", \"z\"]\n",
    "\n",
    "# Special characters that do not change meaning in the cipher\n",
    "special = ['!', '@', '#', '$', '%', '^', '&', '*', '(', ')', '-', '=', '+', '<', ',', '.', '>', '/', '?', '|', '\\'', '[', ']', '1', '2', '3', '4', '5', '6', '7', '8', '9', '0', '/', '_', ' ']\n",
    "\n",
    "# Example message to decode\n",
    "vishal_message = 'xuo jxuhu! jxyi yi qd unqcfbu ev q squiqh syfxuh. muhu oek qrbu je tusetu yj? y xefu ie! iudt cu q cuiiqwu rqsa myjx jxu iqcu evviuj!'\n",
    "\n",
    "# Function to decode a message using Caesar Cipher\n",
    "def decode_message(message, offset):\n",
    "    message = message.lower()  # Convert message to lowercase to handle uppercase letters\n",
    "    decoded = []  # List to store decoded characters\n",
    "    \n",
    "    # Iterate through each character in the message\n",
    "    for char in message:\n",
    "        if char in alpha:  # Check if the character is in the alphabet\n",
    "            # Calculate the new index after applying the offset\n",
    "            char_index = (alpha.index(char) + offset) % len(alpha)\n",
    "            decoded.append(alpha[char_index])  # Add decoded character to list\n",
    "        else:\n",
    "            decoded.append(char)  # Add special characters as they are\n",
    "    \n",
    "    # Join the decoded characters into a single string and title-case it\n",
    "    return ''.join(decoded).title()\n",
    "\n",
    "# Example usage: Decode the vishal_message with an offset of 10\n",
    "print(decode_message(vishal_message, 10))\n",
    "# Output: Hey There! This Is An Example Of A Caesar Cipher. Were You Able To Decode It? I Hope So! Send Me A Message Back With The Same Offset!"
   ]
  },
  {
   "cell_type": "markdown",
   "id": "9d9bab06-0286-439c-8f28-1f89efbc6135",
   "metadata": {},
   "source": [
    "## TASK 2. SEND A CODED MESSAGE\n",
    "\n",
    "Now it's our turn to send coded message. Let's correct out code a little bit."
   ]
  },
  {
   "cell_type": "code",
   "execution_count": 3,
   "id": "257d538d-b6c3-43f9-9ef3-fb27e4c95a51",
   "metadata": {
    "tags": []
   },
   "outputs": [
    {
     "name": "stdout",
     "output_type": "stream",
     "text": [
      "Oui, Y Tyt. Dem Jxqj Y Xqlu Q Vkdsjyed Je Udshofj Qdt Tushofj Cuiiqwui, Mu Sqd Unsxqdwu Bedwuh Cuiiqwui. Yid'J Jxqj Qcqpydw?!\n"
     ]
    }
   ],
   "source": [
    "# Example message to encode\n",
    "our_message = \"Yes, I did. Now that I have a function to encrypt and decrypt messages, we can exchange longer messages. Isn't that amazing?!\"\n",
    "\n",
    "# Function to encode a message using Caesar Cipher\n",
    "def encode_message(message, offset):\n",
    "    message = message.lower()  # Convert message to lowercase\n",
    "    encoded = []  # List to store encoded characters\n",
    "    \n",
    "    # Iterate through each character in the message\n",
    "    for char in message:\n",
    "        if char in alpha:  # Check if the character is in the alphabet\n",
    "            # Calculate the new index after applying the offset in reverse direction\n",
    "            char_index = (alpha.index(char) - offset) % len(alpha)\n",
    "            encoded.append(alpha[char_index])  # Add encoded character to list\n",
    "        else:\n",
    "            encoded.append(char)  # Add non-alphabet characters unchanged\n",
    "    \n",
    "    # Join the encoded characters into a single string and title-case it\n",
    "    return ''.join(encoded).title()\n",
    "\n",
    "# Example usage: Encode the our_message with an offset of 10\n",
    "print(encode_message(our_message, 10))\n",
    "# Output: Oui, Y Tyt. Dem Jxqj Y Xqlu Q Vkdsjyed Je Udshofj Qdt Tushofj Cuiiqwui, Mu Sqd Unsxqdwu Bedwuh Cuiiqwui. Yid'J Jxqj Qcqpydw?!"
   ]
  },
  {
   "cell_type": "markdown",
   "id": "9401211c-fd51-491c-87ae-8106077dd227",
   "metadata": {},
   "source": [
    "### Let's test our functions with a few examples"
   ]
  },
  {
   "cell_type": "code",
   "execution_count": 4,
   "id": "25072ecc-9255-43fa-9a98-9397b2f2757e",
   "metadata": {
    "tags": []
   },
   "outputs": [
    {
     "name": "stdout",
     "output_type": "stream",
     "text": [
      "The Offset For The Second Message Is Fourteen\n",
      "Performing Multiple Caesar Ciphers To Code Your Messages Is Even More Secure!\n"
     ]
    }
   ],
   "source": [
    "first_message = 'jxu evviuj veh jxu iusedt cuiiqwu yi vekhjuud'\n",
    "print(decode_message(first_message, 10))\n",
    "#Output:The Offset For The Second Message Is Fourteen\n",
    "\n",
    "second_message = 'bqdradyuzs ygxfubxq omqemd oubtqde fa oapq kagd yqeemsqe ue qhqz yadq eqogdq!'\n",
    "print(decode_message(second_message, 14))\n",
    "#Output: Performing Multiple Caesar Ciphers To Code Your Messages Is Even More Secure!"
   ]
  },
  {
   "cell_type": "markdown",
   "id": "aba4fd31-e3c4-4695-83ff-5eb2e06a158e",
   "metadata": {},
   "source": [
    "## TASK 3. DECODE MESSAGE NOT KNOWING THE OFFSET"
   ]
  },
  {
   "cell_type": "code",
   "execution_count": 5,
   "id": "5de57899-ef81-47ef-9ade-7ba049e9585b",
   "metadata": {
    "tags": []
   },
   "outputs": [
    {
     "name": "stdout",
     "output_type": "stream",
     "text": [
      "0 Vhfinmxkl Atox Kxgwxkxw Tee Hy Maxlx Hew Vbiaxkl Hulhexmx. Px'Ee Atox Mh Kxteer Lmxi Ni Hnk Ztfx By Px Ptgm Mh Dxxi Hnk Fxlltzxl Ltyx.\n",
      "1 Wigjonylm Bupy Lyhxylyx Uff Iz Nbymy Ifx Wcjbylm Ivmifyny. Qy'Ff Bupy Ni Lyuffs Mnyj Oj Iol Augy Cz Qy Quhn Ni Eyyj Iol Gymmuaym Muzy.\n",
      "2 Xjhkpozmn Cvqz Mziyzmzy Vgg Ja Ocznz Jgy Xdkczmn Jwnjgzoz. Rz'Gg Cvqz Oj Mzvggt Nozk Pk Jpm Bvhz Da Rz Rvio Oj Fzzk Jpm Hznnvbzn Nvaz.\n",
      "3 Ykilqpano Dwra Najzanaz Whh Kb Pdaoa Khz Yeldano Kxokhapa. Sa'Hh Dwra Pk Nawhhu Opal Ql Kqn Cwia Eb Sa Swjp Pk Gaal Kqn Iaoowcao Owba.\n",
      "4 Zljmrqbop Exsb Obkaboba Xii Lc Qebpb Lia Zfmebop Lyplibqb. Tb'Ii Exsb Ql Obxiiv Pqbm Rm Lro Dxjb Fc Tb Txkq Ql Hbbm Lro Jbppxdbp Pxcb.\n",
      "5 Amknsrcpq Fytc Pclbcpcb Yjj Md Rfcqc Mjb Agnfcpq Mzqmjcrc. Uc'Jj Fytc Rm Pcyjjw Qrcn Sn Msp Eykc Gd Uc Uylr Rm Iccn Msp Kcqqyecq Qydc.\n",
      "6 Bnlotsdqr Gzud Qdmcdqdc Zkk Ne Sgdrd Nkc Bhogdqr Narnkdsd. Vd'Kk Gzud Sn Qdzkkx Rsdo To Ntq Fzld He Vd Vzms Sn Jddo Ntq Ldrrzfdr Rzed.\n",
      "7 Computers Have Rendered All Of These Old Ciphers Obsolete. We'Ll Have To Really Step Up Our Game If We Want To Keep Our Messages Safe.\n",
      "8 Dpnqvufst Ibwf Sfoefsfe Bmm Pg Uiftf Pme Djqifst Pctpmfuf. Xf'Mm Ibwf Up Sfbmmz Tufq Vq Pvs Hbnf Jg Xf Xbou Up Lffq Pvs Nfttbhft Tbgf.\n",
      "9 Eqorwvgtu Jcxg Tgpfgtgf Cnn Qh Vjgug Qnf Ekrjgtu Qduqngvg. Yg'Nn Jcxg Vq Tgcnna Uvgr Wr Qwt Icog Kh Yg Ycpv Vq Mggr Qwt Oguucigu Uchg.\n",
      "10 Frpsxwhuv Kdyh Uhqghuhg Doo Ri Wkhvh Rog Flskhuv Revrohwh. Zh'Oo Kdyh Wr Uhdoob Vwhs Xs Rxu Jdph Li Zh Zdqw Wr Nhhs Rxu Phvvdjhv Vdih.\n",
      "11 Gsqtyxivw Lezi Virhivih Epp Sj Xliwi Sph Gmtlivw Sfwspixi. Ai'Pp Lezi Xs Vieppc Wxit Yt Syv Keqi Mj Ai Aerx Xs Oiit Syv Qiwwekiw Weji.\n",
      "12 Htruzyjwx Mfaj Wjsijwji Fqq Tk Ymjxj Tqi Hnumjwx Tgxtqjyj. Bj'Qq Mfaj Yt Wjfqqd Xyju Zu Tzw Lfrj Nk Bj Bfsy Yt Pjju Tzw Rjxxfljx Xfkj.\n",
      "13 Iusvazkxy Ngbk Xktjkxkj Grr Ul Znkyk Urj Iovnkxy Uhyurkzk. Ck'Rr Ngbk Zu Xkgrre Yzkv Av Uax Mgsk Ol Ck Cgtz Zu Qkkv Uax Skyygmky Yglk.\n",
      "14 Jvtwbalyz Ohcl Yluklylk Hss Vm Aolzl Vsk Jpwolyz Vizvslal. Dl'Ss Ohcl Av Ylhssf Zalw Bw Vby Nhtl Pm Dl Dhua Av Rllw Vby Tlzzhnlz Zhml.\n",
      "15 Kwuxcbmza Pidm Zmvlmzml Itt Wn Bpmam Wtl Kqxpmza Wjawtmbm. Em'Tt Pidm Bw Zmittg Abmx Cx Wcz Oium Qn Em Eivb Bw Smmx Wcz Umaaioma Ainm.\n",
      "16 Lxvydcnab Qjen Anwmnanm Juu Xo Cqnbn Xum Lryqnab Xkbxuncn. Fn'Uu Qjen Cx Anjuuh Bcny Dy Xda Pjvn Ro Fn Fjwc Cx Tnny Xda Vnbbjpnb Bjon.\n",
      "17 Mywzedobc Rkfo Boxnobon Kvv Yp Droco Yvn Mszrobc Ylcyvodo. Go'Vv Rkfo Dy Bokvvi Cdoz Ez Yeb Qkwo Sp Go Gkxd Dy Uooz Yeb Wocckqoc Ckpo.\n",
      "18 Nzxafepcd Slgp Cpyopcpo Lww Zq Espdp Zwo Ntaspcd Zmdzwpep. Hp'Ww Slgp Ez Cplwwj Depa Fa Zfc Rlxp Tq Hp Hlye Ez Vppa Zfc Xpddlrpd Dlqp.\n",
      "19 Oaybgfqde Tmhq Dqzpqdqp Mxx Ar Ftqeq Axp Oubtqde Aneaxqfq. Iq'Xx Tmhq Fa Dqmxxk Efqb Gb Agd Smyq Ur Iq Imzf Fa Wqqb Agd Yqeemsqe Emrq.\n",
      "20 Pbzchgref Unir Eraqrerq Nyy Bs Gurfr Byq Pvcuref Bofbyrgr. Jr'Yy Unir Gb Ernyyl Fgrc Hc Bhe Tnzr Vs Jr Jnag Gb Xrrc Bhe Zrffntrf Fnsr.\n",
      "21 Qcadihsfg Vojs Fsbrsfsr Ozz Ct Hvsgs Czr Qwdvsfg Cpgczshs. Ks'Zz Vojs Hc Fsozzm Ghsd Id Cif Uoas Wt Ks Kobh Hc Yssd Cif Asggousg Gots.\n",
      "22 Rdbejitgh Wpkt Gtcstgts Paa Du Iwtht Das Rxewtgh Dqhdatit. Lt'Aa Wpkt Id Gtpaan Hite Je Djg Vpbt Xu Lt Lpci Id Ztte Djg Bthhpvth Hput.\n",
      "23 Secfkjuhi Xqlu Hudtuhut Qbb Ev Jxuiu Ebt Syfxuhi Eriebuju. Mu'Bb Xqlu Je Huqbbo Ijuf Kf Ekh Wqcu Yv Mu Mqdj Je Auuf Ekh Cuiiqwui Iqvu.\n",
      "24 Tfdglkvij Yrmv Iveuvivu Rcc Fw Kyvjv Fcu Tzgyvij Fsjfcvkv. Nv'Cc Yrmv Kf Ivrccp Jkvg Lg Fli Xrdv Zw Nv Nrek Kf Bvvg Fli Dvjjrxvj Jrwv.\n",
      "25 Ugehmlwjk Zsnw Jwfvwjwv Sdd Gx Lzwkw Gdv Uahzwjk Gtkgdwlw. Ow'Dd Zsnw Lg Jwsddq Klwh Mh Gmj Ysew Ax Ow Osfl Lg Cwwh Gmj Ewkksywk Ksxw.\n"
     ]
    }
   ],
   "source": [
    "#We use while loop to systematically test different possible shift values (y from 0 to 25) in order to find the correct decryption of new_level_message.Since the Caesar cipher involves shifting letters by a certain number of positions, trying all possible shifts allows you to identify which shift reveals the original plaintext message.\n",
    "new_level_message = 'vhfinmxkl atox kxgwxkxw tee hy maxlx hew vbiaxkl hulhexmx. px\\'ee atox mh kxteer lmxi ni hnk ztfx by px ptgm mh dxxi hnk fxlltzxl ltyx.'\n",
    "y = 0\n",
    "while y <= len(alpha)-1:\n",
    "  print(y, decode_message(new_level_message, y))\n",
    "  y += 1\n",
    "#For each iteration of the loop, the code prints the current shift value (y) alongside the decoded message using that shift. This helps identify which shift provides readable plaintext output.\n",
    "#Correct offset for this message is 7"
   ]
  },
  {
   "cell_type": "markdown",
   "id": "60339ea1-b7d5-42a5-a571-aeeecaef6bf3",
   "metadata": {},
   "source": [
    "### Let's check if our result (offset = 7) is correct"
   ]
  },
  {
   "cell_type": "code",
   "execution_count": 6,
   "id": "70da3740-ce54-46eb-82df-6fef7a11d699",
   "metadata": {
    "tags": []
   },
   "outputs": [
    {
     "name": "stdout",
     "output_type": "stream",
     "text": [
      "Computers Have Rendered All Of These Old Ciphers Obsolete. We'Ll Have To Really Step Up Our Game If We Want To Keep Our Messages Safe.\n"
     ]
    }
   ],
   "source": [
    "print(decode_message(new_level_message, 7))"
   ]
  },
  {
   "cell_type": "markdown",
   "id": "90014dbd-02eb-4cde-a78f-06bc098c9224",
   "metadata": {},
   "source": [
    "## TASK 4. THE VIGENERE CIPHER"
   ]
  },
  {
   "cell_type": "markdown",
   "id": "4689b4e1-992f-436c-953b-2d73ac29c76e",
   "metadata": {},
   "source": [
    "    Salutations! As you can see, technology has made brute forcing simple ciphers like the Caesar Cipher extremely easy, and us crypto-enthusiasts have had to get more creative and use more complicated ciphers. This next cipher I'm going to teach you is the Vigenère Cipher, invented by an Italian cryptologist named Giovan Battista Bellaso (cool name eh?) in the 16th century, but named after another cryptologist from the 16th century, Blaise de Vigenère.\n",
    "        \n",
    "    The Vigenère Cipher is a polyalphabetic substitution cipher, as opposed to the Caesar Cipher which was a monoalphabetic substitution cipher. What this means is that opposed to having a single shift that is applied to every letter, the Vigenère Cipher has a different shift for each individual letter. The value of the shift for each letter is determined by a given keyword.\n",
    "       \n",
    "    Consider the message\n",
    "       \n",
    "    barryisthespy\n",
    "\n",
    "    If we want to code this message, first we choose a keyword. For this example, we'll use the keyword\n",
    "       \n",
    "    dog\n",
    "           \n",
    "    Now we use the repeat the keyword over and over to generate a _keyword phrase_ that is the same length as the message we want to code. So if we want to code the message \"barryisthespy\" our _keyword phrase_ is \"dogdogdogdogd\". Now we are ready to start coding our message. We shift the each letter of our message by the place value of the corresponding letter in the keyword phrase, assuming that \"a\" has a place value of 0, \"b\" has a place value of 1, and so forth. Remember, we zero-index because this is Python we're talking about!\n",
    "\n",
    "                    message:       b  a  r  r  y  i  s  t  h  e  s  p  y\n",
    "            \n",
    "             keyword phrase:       d  o  g  d  o  g  d  o  g  d  o  g  d\n",
    "             \n",
    "      resulting place value:       4  14 15 12 16 24 11 21 25 22 22 17 5\n",
    "  \n",
    "    So we shift \"b\", which has an index of 1, by the index of \"d\", which is 3. This gives us an place value of 4, which is \"e\". Then continue the trend: we shift \"a\" by the place value of \"o\", 14, and get \"o\" again, we shift \"r\" by the place value of \"g\", 15, and get \"x\", shift the next \"r\" by 12 places and \"u\", and so forth. Once we complete all the shifts we end up with our coded message:\n",
    "        \n",
    "    eoxumovhnhgvb\n",
    "            \n",
    "    As you can imagine, this is a lot harder to crack without knowing the keyword! So now comes the hard part. I'll give you a message and the keyword, and you'll see if you can figure out how to crack it! Ready? Okay here's my message:\n",
    "        \n",
    "    dfc jhjj ifyh yf hrfgiv xulk? vmph bfzo! qtl eeh gvkszlfl yyvww kpi hpuvzx dl tzcgrywrxll!\n",
    "            \n",
    "    and the keyword to decode my message is \n",
    "        \n",
    "    friends\n",
    "            \n",
    "    Because that's what we are! Good luck friend!"
   ]
  },
  {
   "cell_type": "code",
   "execution_count": 7,
   "id": "625797df-8e69-4348-8867-2eb47622ed7d",
   "metadata": {
    "tags": []
   },
   "outputs": [
    {
     "name": "stdout",
     "output_type": "stream",
     "text": [
      "Decrypted Message: You Were Able To Decode This? Nice Work! You Are Becoming Quite The Expert At Crytography!\n",
      "Encrypted Message: Dva, Xulk Hfli Vv Eztp Qbuw Hfutylufkmh Gkss Kpeg. L Kyztp Qrf'Y Wcpyb Msumvfwssu Psj Ll Fct Abucx. Z Virg Etim Teduyzki!\n"
     ]
    }
   ],
   "source": [
    "# Function to decode a message using Vigenère Cipher\n",
    "def decode_message_vc(message, keyword):\n",
    "    message = message.lower()  # Convert message to lowercase\n",
    "    keyword = keyword.lower()  # Convert keyword to lowercase\n",
    "    decrypted_message = []     # List to store decrypted characters\n",
    "    keyword_index = 0          # Initialize index for cycling through keyword\n",
    "\n",
    "    # Iterate through each character in the message\n",
    "    for i in message:\n",
    "        if i in alpha:  # Check if the character is in the alphabet\n",
    "            # Determine the shift amount for the current character\n",
    "            shift = alpha.index(keyword[keyword_index % len(keyword)])\n",
    "            # Decrypt the current character\n",
    "            decrypted_i = alpha[(alpha.index(i) - shift) % len(alpha)]\n",
    "            decrypted_message.append(decrypted_i)  # Add decrypted character to list\n",
    "            keyword_index += 1  # Move to the next character in the keyword\n",
    "        else:\n",
    "            decrypted_message.append(i)  # Non-alphabet characters remain unchanged\n",
    "    \n",
    "    # Join the decrypted characters into a single string and title-case it\n",
    "    return ''.join(decrypted_message).title()\n",
    "\n",
    "# Example usage to decode a given message with a keyword\n",
    "message_v = \"dfc aruw fsti gr vjtwhr wznj? vmph otis! cbx swv jipreneo uhllj kpi rahjib eg fjdkwkedhmp!\"\n",
    "keyword = \"friends\"\n",
    "print(\"Decrypted Message:\", decode_message_vc(message_v, keyword))\n",
    "\n",
    "\n",
    "# Function to encode a message using Vigenère Cipher (for testing)\n",
    "def encode_message_vc(message, keyword):\n",
    "    message = message.lower()  # Convert message to lowercase\n",
    "    keyword = keyword.lower()  # Convert keyword to lowercase\n",
    "    encrypted_message = []     # List to store encrypted characters\n",
    "    keyword_index = 0          # Initialize index for cycling through keyword\n",
    "\n",
    "    # Iterate through each character in the message\n",
    "    for i in message:\n",
    "        if i in alpha:  # Check if the character is in the alphabet\n",
    "            # Determine the shift amount for the current character\n",
    "            shift = alpha.index(keyword[keyword_index % len(keyword)])\n",
    "            # Encrypt the current character\n",
    "            encrypted_i = alpha[(alpha.index(i) + shift) % len(alpha)]\n",
    "            encrypted_message.append(encrypted_i)  # Add encrypted character to list\n",
    "            keyword_index += 1  # Move to the next character in the keyword\n",
    "        else:\n",
    "            encrypted_message.append(i)  # Non-alphabet characters remain unchanged\n",
    "    \n",
    "    # Join the encrypted characters into a single string and title-case it\n",
    "    return ''.join(encrypted_message).title()\n",
    "\n",
    "# Example usage to encode a message with a keyword (for testing)\n",
    "message_my = 'Yes, this code is much more complicated than that. I still don\\'t fully understand how it all works. I need more practice!'\n",
    "keyword_my = \"friends\"\n",
    "print(\"Encrypted Message:\", encode_message_vc(message_my, keyword_my))"
   ]
  },
  {
   "cell_type": "markdown",
   "id": "b3966d35-1e50-48ce-9cd9-d994a9196e60",
   "metadata": {},
   "source": [
    "Throughout this project, I've delved into two different cipher methods and honed my Python skills to encode and decode messages. The world of ciphers offers a myriad of fascinating techniques to explore, and Python proves to be an ideal language for implementing them."
   ]
  },
  {
   "cell_type": "code",
   "execution_count": null,
   "id": "ad8e1c0c-b5ef-4135-854b-500429ef6014",
   "metadata": {},
   "outputs": [],
   "source": []
  }
 ],
 "metadata": {
  "kernelspec": {
   "display_name": "Python 3 (ipykernel)",
   "language": "python",
   "name": "python3"
  },
  "language_info": {
   "codemirror_mode": {
    "name": "ipython",
    "version": 3
   },
   "file_extension": ".py",
   "mimetype": "text/x-python",
   "name": "python",
   "nbconvert_exporter": "python",
   "pygments_lexer": "ipython3",
   "version": "3.11.5"
  }
 },
 "nbformat": 4,
 "nbformat_minor": 5
}
