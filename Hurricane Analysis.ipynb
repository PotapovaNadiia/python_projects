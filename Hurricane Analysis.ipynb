{
 "cells": [
  {
   "cell_type": "markdown",
   "id": "95925767-b4e5-4b92-8c9e-c205d479fcd9",
   "metadata": {},
   "source": [
    "# Hurricane Analysis\n",
    "\n",
    "## Overview\n",
    "This project aims to analyze and categorize data on Category 5 hurricanes, the most powerful hurricanes as rated by their wind speed. This project presented a series of open-ended requirements, encouraging the use of various resources and problem-solving skills to fulfill these requirements.\n",
    "\n",
    "## Project Goals\n",
    "The primary goal of this project was to write several functions that organize and manipulate data about Category 5 hurricanes. These functions utilize parameters, conditionals, lists, dictionaries, string manipulation, and return statements to handle and analyze hurricane data effectively.\n",
    "\n",
    "## Key Features\n",
    "* **Damage Data Conversion:** A function that converts damage data from strings to float values, retaining the format for missing data.\n",
    "* **Dictionary Construction:** A function that constructs a dictionary from lists, where each key is a hurricane name and each value is a dictionary of details about that hurricane.\n",
    "* **Year-Based Organization:** A function that reorganizes the hurricane dictionary by year, with each year containing a list of hurricanes that occurred.\n",
    "* **Affected Areas Count:** A function that counts how often each area was affected by hurricanes.\n",
    "* **Most Affected Area:** A function that identifies the area affected by the most hurricanes and the frequency of occurrences.\n",
    "* **Highest Mortality:** A function that finds the hurricane that caused the greatest number of deaths.\n",
    "* **Mortality Rating:** A function that rates hurricanes based on a mortality scale and categorizes them accordingly.\n",
    "* **Greatest Damage:** A function that finds the hurricane that caused the most damage.\n",
    "* **Damage Rating:** A function that rates hurricanes based on the damage scale and categorizes them accordingly."
   ]
  },
  {
   "cell_type": "markdown",
   "id": "00fc4ee4-45d5-4bf9-b805-b7e541061faa",
   "metadata": {},
   "source": [
    "## DATA"
   ]
  },
  {
   "cell_type": "code",
   "execution_count": 16,
   "id": "cb5d6cf3-5ab1-4891-94b6-9b8c22aa802f",
   "metadata": {
    "tags": []
   },
   "outputs": [],
   "source": [
    "# names of hurricanes\n",
    "names = ['Cuba I', 'San Felipe II Okeechobee', 'Bahamas', 'Cuba II', 'CubaBrownsville', 'Tampico', 'Labor Day', 'New England', 'Carol', 'Janet', 'Carla', 'Hattie', 'Beulah', 'Camille', 'Edith', 'Anita', 'David', 'Allen', 'Gilbert', 'Hugo', 'Andrew', 'Mitch', 'Isabel', 'Ivan', 'Emily', 'Katrina', 'Rita', 'Wilma', 'Dean', 'Felix', 'Matthew', 'Irma', 'Maria', 'Michael']\n",
    "\n",
    "# months of hurricanes\n",
    "months = ['October', 'September', 'September', 'November', 'August', 'September', 'September', 'September', 'September', 'September', 'September', 'October', 'September', 'August', 'September', 'September', 'August', 'August', 'September', 'September', 'August', 'October', 'September', 'September', 'July', 'August', 'September', 'October', 'August', 'September', 'October', 'September', 'September', 'October']\n",
    "\n",
    "# years of hurricanes\n",
    "years = [1924, 1928, 1932, 1932, 1933, 1933, 1935, 1938, 1953, 1955, 1961, 1961, 1967, 1969, 1971, 1977, 1979, 1980, 1988, 1989, 1992, 1998, 2003, 2004, 2005, 2005, 2005, 2005, 2007, 2007, 2016, 2017, 2017, 2018]\n",
    "\n",
    "# maximum sustained winds (mph) of hurricanes\n",
    "max_sustained_winds = [165, 160, 160, 175, 160, 160, 185, 160, 160, 175, 175, 160, 160, 175, 160, 175, 175, 190, 185, 160, 175, 180, 165, 165, 160, 175, 180, 185, 175, 175, 165, 180, 175, 160]\n",
    "\n",
    "# areas affected by each hurricane\n",
    "areas_affected = [['Central America', 'Mexico', 'Cuba', 'Florida', 'The Bahamas'], ['Lesser Antilles', 'The Bahamas', 'United States East Coast', 'Atlantic Canada'], ['The Bahamas', 'Northeastern United States'], ['Lesser Antilles', 'Jamaica', 'Cayman Islands', 'Cuba', 'The Bahamas', 'Bermuda'], ['The Bahamas', 'Cuba', 'Florida', 'Texas', 'Tamaulipas'], ['Jamaica', 'Yucatn Peninsula'], ['The Bahamas', 'Florida', 'Georgia', 'The Carolinas', 'Virginia'], ['Southeastern United States', 'Northeastern United States', 'Southwestern Quebec'], ['Bermuda', 'New England', 'Atlantic Canada'], ['Lesser Antilles', 'Central America'], ['Texas', 'Louisiana', 'Midwestern United States'], ['Central America'], ['The Caribbean', 'Mexico', 'Texas'], ['Cuba', 'United States Gulf Coast'], ['The Caribbean', 'Central America', 'Mexico', 'United States Gulf Coast'], ['Mexico'], ['The Caribbean', 'United States East coast'], ['The Caribbean', 'Yucatn Peninsula', 'Mexico', 'South Texas'], ['Jamaica', 'Venezuela', 'Central America', 'Hispaniola', 'Mexico'], ['The Caribbean', 'United States East Coast'], ['The Bahamas', 'Florida', 'United States Gulf Coast'], ['Central America', 'Yucatn Peninsula', 'South Florida'], ['Greater Antilles', 'Bahamas', 'Eastern United States', 'Ontario'], ['The Caribbean', 'Venezuela', 'United States Gulf Coast'], ['Windward Islands', 'Jamaica', 'Mexico', 'Texas'], ['Bahamas', 'United States Gulf Coast'], ['Cuba', 'United States Gulf Coast'], ['Greater Antilles', 'Central America', 'Florida'], ['The Caribbean', 'Central America'], ['Nicaragua', 'Honduras'], ['Antilles', 'Venezuela', 'Colombia', 'United States East Coast', 'Atlantic Canada'], ['Cape Verde', 'The Caribbean', 'British Virgin Islands', 'U.S. Virgin Islands', 'Cuba', 'Florida'], ['Lesser Antilles', 'Virgin Islands', 'Puerto Rico', 'Dominican Republic', 'Turks and Caicos Islands'], ['Central America', 'United States Gulf Coast (especially Florida Panhandle)']]\n",
    "\n",
    "# damages (USD($)) of hurricanes\n",
    "damages = ['Damages not recorded', '100M', 'Damages not recorded', '40M', '27.9M', '5M', 'Damages not recorded', '306M', '2M', '65.8M', '326M', '60.3M', '208M', '1.42B', '25.4M', 'Damages not recorded', '1.54B', '1.24B', '7.1B', '10B', '26.5B', '6.2B', '5.37B', '23.3B', '1.01B', '125B', '12B', '29.4B', '1.76B', '720M', '15.1B', '64.8B', '91.6B', '25.1B']\n",
    "\n",
    "# deaths for each hurricane\n",
    "deaths = [90,4000,16,3103,179,184,408,682,5,1023,43,319,688,259,37,11,2068,269,318,107,65,19325,51,124,17,1836,125,87,45,133,603,138,3057,74]"
   ]
  },
  {
   "cell_type": "markdown",
   "id": "74f7281b-808b-4fab-b4a8-6cbc9e3108e3",
   "metadata": {
    "tags": []
   },
   "source": [
    "## TASK 1.\n",
    "Hurricanes, also known as cyclones or typhoons, are one of the most powerful forces of nature on Earth. Due to climate change caused by human activity, the number and intensity of hurricanes has risen, calling for better preparation by the many communities that are devastated by them. As a concerned environmentalist, you want to look at data about the most powerful hurricanes that have occurred.\n",
    "\n",
    "Write a function that returns a new list of updated damages where the recorded data is converted to float values and the missing data is retained as \"Damages not recorded\"."
   ]
  },
  {
   "cell_type": "markdown",
   "id": "763ca334-9d8a-4ec3-a581-74b68f6253f1",
   "metadata": {},
   "source": [
    "*This function damage takes a list of damage values as input and updates the values to a consistent float format. The damages are recorded in millions (\"M\") or billions (\"B\"). If the damage value is recorded, it converts the value to a float. If the damage is not recorded, it retains the value as \"Damages not recorded\".*"
   ]
  },
  {
   "cell_type": "code",
   "execution_count": 17,
   "id": "97a6dd54-5896-4db4-b260-aca019c11de8",
   "metadata": {
    "tags": []
   },
   "outputs": [
    {
     "name": "stdout",
     "output_type": "stream",
     "text": [
      "['Damages not recorded', 100000000.0, 'Damages not recorded', 40000000.0, 27900000.0, 5000000.0, 'Damages not recorded', 306000000.0, 2000000.0, 65800000.0, 326000000.0, 60300000.0, 208000000.0, 1420000000.0, 25400000.0, 'Damages not recorded', 1540000000.0, 1240000000.0, 7100000000.0, 10000000000.0, 26500000000.0, 6200000000.0, 5370000000.0, 23300000000.0, 1010000000.0, 125000000000.0, 12000000000.0, 29400000000.0, 1760000000.0, 720000000.0, 15100000000.0, 64800000000.0, 91600000000.0, 25100000000.0]\n"
     ]
    }
   ],
   "source": [
    "# 1\n",
    "# Update Recorded Damages\n",
    "def damage(damages):\n",
    "  conversion = {\"M\": 1000000,\n",
    "              \"B\": 1000000000}\n",
    "  updated_damages = []\n",
    "  for damage in damages:\n",
    "    if damage[-1] in conversion:\n",
    "      updated_damages.append(float(damage[:-1])*conversion[damage[-1]])\n",
    "    else:\n",
    "      updated_damages.append(\"Damages not recorded\")\n",
    "  return updated_damages\n",
    "\n",
    "# test function by updating damages\n",
    "damages_update = damage(damages)\n",
    "print(damages_update)"
   ]
  },
  {
   "cell_type": "markdown",
   "id": "aae1f4e6-46dc-47f9-a045-77fcb62322f9",
   "metadata": {},
   "source": [
    "## TASK 2.\n",
    "Additional data collected on the 34 strongest Atlantic hurricanes are provided in a series of lists. The data includes:\n",
    "\n",
    "* names: names of the hurricanes\n",
    "* months: months in which the hurricanes occurred\n",
    "* years: years in which the hurricanes occurred\n",
    "* max_sustained_winds: maximum sustained winds (miles per hour) of the hurricanes\n",
    "* areas_affected: list of different areas affected by each of the hurricanes\n",
    "* deaths: total number of deaths caused by each of the hurricanes\n",
    "\n",
    "Write a function that constructs a dictionary made out of the lists, where the keys of the dictionary are the names of the hurricanes, and the values are dictionaries themselves containing a key for each piece of data (Name, Month, Year,Max Sustained Wind, Areas Affected, Damage, Death) about the hurricane."
   ]
  },
  {
   "cell_type": "markdown",
   "id": "6bd671ae-83ac-462a-b2b0-c95ab524da36",
   "metadata": {},
   "source": [
    "*This function hurricanes_dic constructs a dictionary from multiple lists of hurricane data. Each hurricane's name is used as a key, and the value is another dictionary containing various details about the hurricane.*"
   ]
  },
  {
   "cell_type": "code",
   "execution_count": 18,
   "id": "86aad650-d40e-47cd-b4dc-faf4309f255c",
   "metadata": {
    "tags": []
   },
   "outputs": [],
   "source": [
    "# 2 \n",
    "# Create a Table\n",
    "def hurricanes_dic(names, months, years, max_sustained_winds, areas_affected, damages_update, deaths):\n",
    "  hurricanes = {}\n",
    "  num_hurricanes = len(names)\n",
    "  for i in range(num_hurricanes):\n",
    "      hurricanes[names[i]] = {\n",
    "          \"Name\": names[i],\n",
    "          \"Month\": months[i],\n",
    "          \"Year\": years[i],\n",
    "          \"Max Sustained Wind\": max_sustained_winds[i],\n",
    "          \"Areas Affected\": areas_affected[i],\n",
    "          \"Damage\": damages_update[i],\n",
    "          \"Deaths\": deaths[i]\n",
    "      }\n",
    "  return hurricanes\n",
    "\n",
    "# Create and view the hurricanes dictionary\n",
    "hurricanes = hurricanes_dic(names, months, years, max_sustained_winds, areas_affected, damages_update, deaths)\n",
    "# print(hurricanes)"
   ]
  },
  {
   "cell_type": "markdown",
   "id": "60a637c1-0dd9-4070-999d-08f76856d1f9",
   "metadata": {},
   "source": [
    "## TASK 3.\n",
    "In addition to organizing the hurricanes in a dictionary with names as the key, you want to be able to organize the hurricanes by year.\n",
    "\n",
    "Write a function that converts the current dictionary of hurricanes to a new dictionary, where the keys are years and the values are lists containing a dictionary for each hurricane that occurred in that year."
   ]
  },
  {
   "cell_type": "markdown",
   "id": "c05c8cfa-486d-43b5-9c5b-27a950850c26",
   "metadata": {},
   "source": [
    "*This function create_year_dictionary organizes hurricanes into a dictionary where the keys are the years and the values are lists of hurricanes that occurred in those years.*"
   ]
  },
  {
   "cell_type": "code",
   "execution_count": 19,
   "id": "ae92d55b-3418-4a0f-9c9c-831cccec29a4",
   "metadata": {
    "tags": []
   },
   "outputs": [],
   "source": [
    "# 3\n",
    "# Organizing by Year\n",
    "def create_year_dictionary(hurricanes):\n",
    "    hurricanes_by_year = {}\n",
    "    for hurricane in hurricanes:\n",
    "        current_year = hurricanes[hurricane]['Year']\n",
    "        current_hurricane = hurricanes[hurricane]\n",
    "        if current_year not in hurricanes_by_year:\n",
    "            hurricanes_by_year[current_year] = [current_hurricane]\n",
    "        else:\n",
    "            hurricanes_by_year[current_year].append(current_hurricane)\n",
    "    return hurricanes_by_year\n",
    "    \n",
    "# create a new dictionary of hurricanes with year as key\n",
    "hurricanes_by_year = create_year_dictionary(hurricanes)\n",
    "# print(hurricanes_by_year)"
   ]
  },
  {
   "cell_type": "markdown",
   "id": "a6e4b9c2-e7a1-4695-b01d-f65522e1519b",
   "metadata": {},
   "source": [
    "## TASK 4.\n",
    "\n",
    "You believe that knowing how often each of the areas of the Atlantic are affected by these strong hurricanes is important for making preparations for future hurricanes.\n",
    "\n",
    "Write a function that counts how often each area is listed as an affected area of a hurricane. Store and return the results in a dictionary where the keys are the affected areas and the values are counts of how many times the areas were affected."
   ]
  },
  {
   "cell_type": "code",
   "execution_count": 20,
   "id": "c0a87d5d-c94f-48e0-a6e0-108383580c90",
   "metadata": {
    "tags": []
   },
   "outputs": [
    {
     "name": "stdout",
     "output_type": "stream",
     "text": [
      "{'Central America': 9, 'Mexico': 7, 'Cuba': 6, 'Florida': 6, 'The Bahamas': 7, 'Lesser Antilles': 4, 'United States East Coast': 3, 'Atlantic Canada': 3, 'Northeastern United States': 2, 'Jamaica': 4, 'Cayman Islands': 1, 'Bermuda': 2, 'Texas': 4, 'Tamaulipas': 1, 'Yucatn Peninsula': 3, 'Georgia': 1, 'The Carolinas': 1, 'Virginia': 1, 'Southeastern United States': 1, 'Southwestern Quebec': 1, 'New England': 1, 'Louisiana': 1, 'Midwestern United States': 1, 'The Caribbean': 8, 'United States Gulf Coast': 6, 'United States East coast': 1, 'South Texas': 1, 'Venezuela': 3, 'Hispaniola': 1, 'South Florida': 1, 'Greater Antilles': 2, 'Bahamas': 2, 'Eastern United States': 1, 'Ontario': 1, 'Windward Islands': 1, 'Nicaragua': 1, 'Honduras': 1, 'Antilles': 1, 'Colombia': 1, 'Cape Verde': 1, 'British Virgin Islands': 1, 'U.S. Virgin Islands': 1, 'Virgin Islands': 1, 'Puerto Rico': 1, 'Dominican Republic': 1, 'Turks and Caicos Islands': 1, 'United States Gulf Coast (especially Florida Panhandle)': 1}\n"
     ]
    }
   ],
   "source": [
    "# 4\n",
    "# Counting Damaged Areas\n",
    "def areas_count(hurricanes):\n",
    "  hurricanes_area_counts = {}\n",
    "  for hurricane in hurricanes:\n",
    "    for area in hurricanes[hurricane][\"Areas Affected\"]:\n",
    "      if area not in hurricanes_area_counts:\n",
    "        hurricanes_area_counts[area] = 1\n",
    "      else:\n",
    "        hurricanes_area_counts[area] += 1\n",
    "  return hurricanes_area_counts\n",
    "\n",
    "# create dictionary of areas to store the number of hurricanes involved in\n",
    "areas_count = areas_count(hurricanes)\n",
    "print(areas_count)"
   ]
  },
  {
   "cell_type": "markdown",
   "id": "a7ba41ac-0316-48ca-a141-ac749a92ad17",
   "metadata": {},
   "source": [
    "## TASK 5.\n",
    "\n",
    "Write a function that finds the area affected by the most hurricanes, and how often it was hit."
   ]
  },
  {
   "cell_type": "code",
   "execution_count": 21,
   "id": "07a95685-e8b0-41b9-bd00-619dbb2f3c11",
   "metadata": {
    "tags": []
   },
   "outputs": [
    {
     "name": "stdout",
     "output_type": "stream",
     "text": [
      "Central America 9\n"
     ]
    }
   ],
   "source": [
    "# 5 \n",
    "# Calculating Maximum Hurricane Count\n",
    "def max_area_count(areas_count):\n",
    "  max_count = max(areas_count.values())\n",
    "  max_count_area = [area for area, count in areas_count.items() if count == max_count]\n",
    "  print(', '.join(max_count_area), max_count)\n",
    "# find most frequently affected area and the number of hurricanes involved in\n",
    "max_area_count(areas_count)"
   ]
  },
  {
   "cell_type": "markdown",
   "id": "cd1b1683-8280-42de-81a3-7284989641be",
   "metadata": {},
   "source": [
    "## TASK 6.\n",
    "\n",
    "Write a function that finds the hurricane that caused the greatest number of deaths, and how many deaths it caused."
   ]
  },
  {
   "cell_type": "markdown",
   "id": "18dc272f-2ed3-426d-be8f-23dbbb34f1bb",
   "metadata": {},
   "source": [
    "### Option 1"
   ]
  },
  {
   "cell_type": "markdown",
   "id": "b4fcbd43-9797-4041-9a48-7ba7f84d880d",
   "metadata": {},
   "source": [
    "*This function death_count calculates the total number of deaths caused by each hurricane and identifies the hurricane with the greatest number of deaths.*"
   ]
  },
  {
   "cell_type": "code",
   "execution_count": 22,
   "id": "df45d424-dd9d-4e28-ac8e-fbe981636800",
   "metadata": {
    "tags": []
   },
   "outputs": [
    {
     "name": "stdout",
     "output_type": "stream",
     "text": [
      "Mitch 19325\n"
     ]
    },
    {
     "data": {
      "text/plain": [
       "{'Cuba I': 90,\n",
       " 'San Felipe II Okeechobee': 4000,\n",
       " 'Bahamas': 16,\n",
       " 'Cuba II': 3103,\n",
       " 'CubaBrownsville': 179,\n",
       " 'Tampico': 184,\n",
       " 'Labor Day': 408,\n",
       " 'New England': 682,\n",
       " 'Carol': 5,\n",
       " 'Janet': 1023,\n",
       " 'Carla': 43,\n",
       " 'Hattie': 319,\n",
       " 'Beulah': 688,\n",
       " 'Camille': 259,\n",
       " 'Edith': 37,\n",
       " 'Anita': 11,\n",
       " 'David': 2068,\n",
       " 'Allen': 269,\n",
       " 'Gilbert': 318,\n",
       " 'Hugo': 107,\n",
       " 'Andrew': 65,\n",
       " 'Mitch': 19325,\n",
       " 'Isabel': 51,\n",
       " 'Ivan': 124,\n",
       " 'Emily': 17,\n",
       " 'Katrina': 1836,\n",
       " 'Rita': 125,\n",
       " 'Wilma': 87,\n",
       " 'Dean': 45,\n",
       " 'Felix': 133,\n",
       " 'Matthew': 603,\n",
       " 'Irma': 138,\n",
       " 'Maria': 3057,\n",
       " 'Michael': 74}"
      ]
     },
     "execution_count": 22,
     "metadata": {},
     "output_type": "execute_result"
    }
   ],
   "source": [
    "def death_count(hurricanes):\n",
    "    hurricanes_death_counts = {}\n",
    "    for hurricane in hurricanes.values():\n",
    "        name = hurricane[\"Name\"]\n",
    "        deaths = hurricane[\"Deaths\"]\n",
    "        if name in hurricanes_death_counts:\n",
    "            hurricanes_death_counts[name] += deaths\n",
    "        else:\n",
    "            hurricanes_death_counts[name] = deaths\n",
    "    \n",
    "    max_death = max(hurricanes_death_counts.values())\n",
    "    max_death_count = [name for name, deaths in hurricanes_death_counts.items() if deaths == max_death]\n",
    "    \n",
    "    print(', '.join(max_death_count), max_death)\n",
    "    return hurricanes_death_counts\n",
    "death_count(hurricanes)"
   ]
  },
  {
   "cell_type": "markdown",
   "id": "536364e6-d963-496a-b065-d0acfdfd069d",
   "metadata": {},
   "source": [
    "### Option 2"
   ]
  },
  {
   "cell_type": "markdown",
   "id": "e23bd67a-77b0-47fa-9182-f6968fedbcdd",
   "metadata": {},
   "source": [
    "*This function highest_mortality identifies the hurricane that caused the greatest number of deaths and returns the name of the hurricane along with the number of deaths.*"
   ]
  },
  {
   "cell_type": "code",
   "execution_count": 23,
   "id": "5db1b567-642f-4907-83c3-76f336e3e14f",
   "metadata": {
    "tags": []
   },
   "outputs": [
    {
     "name": "stdout",
     "output_type": "stream",
     "text": [
      "The hurricane that caused the greatest number of deaths is Mitch with 19325 deaths.\n"
     ]
    }
   ],
   "source": [
    "def highest_mortality(hurricanes):\n",
    "    \"\"\"Find the hurricane that caused the greatest number of deaths, and how many deaths it caused.\"\"\"\n",
    "    max_mortality_hurricane = ''\n",
    "    max_mortality = 0\n",
    "    for hurricane in hurricanes.values():\n",
    "        if hurricane['Deaths'] > max_mortality:\n",
    "            max_mortality_hurricane = hurricane['Name']\n",
    "            max_mortality = hurricane['Deaths']\n",
    "    return max_mortality_hurricane, max_mortality\n",
    "max_mortality_hurricane, max_mortality = highest_mortality(hurricanes)\n",
    "print(f\"The hurricane that caused the greatest number of deaths is {max_mortality_hurricane} with {max_mortality} deaths.\")"
   ]
  },
  {
   "cell_type": "markdown",
   "id": "40113feb-a3d2-4275-b966-f8a20bf8274a",
   "metadata": {},
   "source": [
    "## TASK 7.\n",
    "\n",
    "Just as hurricanes are rated by their windspeed, you want to try rating hurricanes based on other metrics.\n",
    "\n",
    "Write a function that rates hurricanes on a mortality scale."
   ]
  },
  {
   "cell_type": "markdown",
   "id": "ec721fc4-d321-4dc1-89ff-7caef424aa60",
   "metadata": {},
   "source": [
    "*This function categorize_by_mortality categorizes hurricanes based on a mortality scale and returns a dictionary where the keys are mortality ratings and the values are lists of hurricanes that fall into each rating category.*"
   ]
  },
  {
   "cell_type": "code",
   "execution_count": 24,
   "id": "9edb36e5-43cb-4db4-ab3f-62c5a3481f47",
   "metadata": {
    "tags": []
   },
   "outputs": [],
   "source": [
    "# 7\n",
    "# Rating Hurricanes by Mortality\n",
    "def categorize_by_mortality(hurricanes):\n",
    "    \"\"\"Categorize hurricanes by mortality and return a dictionary.\"\"\"\n",
    "    mortality_scale = {0: 0, 1: 100, 2: 500, 3: 1000, 4: 10000}\n",
    "    hurricanes_by_mortality = {key: [] for key in range(6)}\n",
    "\n",
    "    for hurricane in hurricanes.values():\n",
    "        num_deaths = hurricane['Deaths']\n",
    "        for rating, upper_bound in mortality_scale.items():\n",
    "            if num_deaths <= upper_bound:\n",
    "                hurricanes_by_mortality[rating].append(hurricane)\n",
    "                break\n",
    "        else:\n",
    "            hurricanes_by_mortality[5].append(hurricane)\n",
    "\n",
    "    return hurricanes_by_mortality\n",
    "\n",
    "# Categorize hurricanes in new dictionary with mortality severity as key\n",
    "hurricanes_by_mortality = categorize_by_mortality(hurricanes)\n",
    "#print(hurricanes_by_mortality)"
   ]
  },
  {
   "cell_type": "markdown",
   "id": "bc548f38-7d6b-433e-9be6-8d0800e8f4dc",
   "metadata": {},
   "source": [
    "## TASK 8\n",
    "\n",
    "Write a function that finds the hurricane that caused the greatest damage, and how costly it was."
   ]
  },
  {
   "cell_type": "code",
   "execution_count": 25,
   "id": "45300270-d775-4ce8-bb74-04c7db65a079",
   "metadata": {
    "tags": []
   },
   "outputs": [
    {
     "name": "stdout",
     "output_type": "stream",
     "text": [
      "The hurricane that caused the greatest damage is Katrina with 125000000000.0 cost.\n"
     ]
    }
   ],
   "source": [
    "# 8 Calculating Hurricane Maximum Damage\n",
    "def highest_cost(hurricanes):\n",
    "    \"\"\"Find the hurricane that caused the greatest damage, and how costly it was.\"\"\"\n",
    "    max_damage_hurricane = ''\n",
    "    max_damage = 0\n",
    "    for hurricane in hurricanes.values():\n",
    "        if hurricane['Damage'] == \"Damages not recorded\":\n",
    "          pass\n",
    "        elif hurricane['Damage'] > max_damage:\n",
    "          max_damage_hurricane = hurricane['Name']\n",
    "          max_damage = hurricane['Damage']\n",
    "    return max_damage_hurricane, max_damage\n",
    "\n",
    "# find highest damage inducing hurricane and its total cost\n",
    "max_damage_hurricane, max_damage = highest_cost(hurricanes)\n",
    "print(f\"The hurricane that caused the greatest damage is {max_damage_hurricane} with {max_damage} cost.\")"
   ]
  },
  {
   "cell_type": "markdown",
   "id": "6a83eaa4-3ee3-4d90-9408-c60dee391a02",
   "metadata": {},
   "source": [
    "## TASK 9\n",
    "\n",
    "Lastly, you want to rate hurricanes according to how much damage they cause.\n",
    "\n",
    "Write a function that rates hurricanes on a damage scale."
   ]
  },
  {
   "cell_type": "code",
   "execution_count": 26,
   "id": "45fd594b-2552-4948-89b7-aec8b9a84dac",
   "metadata": {
    "tags": []
   },
   "outputs": [
    {
     "name": "stdout",
     "output_type": "stream",
     "text": [
      "[{'Name': 'Katrina', 'Month': 'August', 'Year': 2005, 'Max Sustained Wind': 175, 'Areas Affected': ['Bahamas', 'United States Gulf Coast'], 'Damage': 125000000000.0, 'Deaths': 1836}, {'Name': 'Irma', 'Month': 'September', 'Year': 2017, 'Max Sustained Wind': 180, 'Areas Affected': ['Cape Verde', 'The Caribbean', 'British Virgin Islands', 'U.S. Virgin Islands', 'Cuba', 'Florida'], 'Damage': 64800000000.0, 'Deaths': 138}, {'Name': 'Maria', 'Month': 'September', 'Year': 2017, 'Max Sustained Wind': 175, 'Areas Affected': ['Lesser Antilles', 'Virgin Islands', 'Puerto Rico', 'Dominican Republic', 'Turks and Caicos Islands'], 'Damage': 91600000000.0, 'Deaths': 3057}]\n"
     ]
    }
   ],
   "source": [
    "# 9\n",
    "# Rating Hurricanes by Damage\n",
    "def categorize_by_damage(hurricanes):\n",
    "  damage_scale = {0: 0, 1: 100000000, 2: 1000000000, 3: 10000000000, 4: 50000000000}\n",
    "  hurricanes_by_damage = {key: [] for key in range(6)}\n",
    "  for hurricane in hurricanes.values():\n",
    "        damage_cost = hurricane['Damage']\n",
    "        if damage_cost == \"Damages not recorded\":\n",
    "            continue\n",
    "        \n",
    "        for rating, upper_bound in damage_scale.items():\n",
    "            if damage_cost <= upper_bound:\n",
    "                hurricanes_by_damage[rating].append(hurricane)\n",
    "                break\n",
    "        else:\n",
    "            hurricanes_by_damage[5].append(hurricane)\n",
    "  return hurricanes_by_damage\n",
    "\n",
    "hurricanes_by_damage = categorize_by_damage(hurricanes)\n",
    "print(hurricanes_by_damage[5])"
   ]
  },
  {
   "cell_type": "markdown",
   "id": "feea4d7b-3157-4395-afac-2e4781888fbb",
   "metadata": {},
   "source": [
    "## Overall Conclusion\n",
    "\n",
    "In completing this Hurricane Analysis project, I leveraged and enhanced several key Python programming skills:\n",
    "\n",
    "**Data Conversion and Manipulation:** I converted complex data formats into standardized, usable forms. This involved string manipulation and conditional logic to ensure that damage data was consistently represented as float values.\n",
    "\n",
    "**Data Structuring with Dictionaries:** I effectively utilized dictionaries to organize and store hurricane data. This included creating nested dictionaries to hold comprehensive details about each hurricane and structuring the data to allow for efficient retrieval and analysis.\n",
    "\n",
    "**Looping and Conditional Statements:** Through the use of loops and conditional statements, I was able to iterate over and evaluate hurricane data to categorize it based on various criteria, such as year of occurrence, mortality, and damage impact.\n",
    "\n",
    "**Data Aggregation and Analysis:** I developed functions to aggregate data, such as counting how often areas were affected by hurricanes, and identifying the hurricanes with the greatest death tolls and financial damages. This required a combination of looping, conditionals, and dictionary operations to accurately compile and analyze the data.\n",
    "\n",
    "By utilizing these skills, I was able to transform raw hurricane data into structured, insightful information, providing a foundation for further analysis and understanding of the impact of Category 5 hurricanes. This project not only reinforced my existing Python skills but also highlighted the importance of data organization, manipulation, and analysis in real-world applications."
   ]
  }
 ],
 "metadata": {
  "kernelspec": {
   "display_name": "Python 3 (ipykernel)",
   "language": "python",
   "name": "python3"
  },
  "language_info": {
   "codemirror_mode": {
    "name": "ipython",
    "version": 3
   },
   "file_extension": ".py",
   "mimetype": "text/x-python",
   "name": "python",
   "nbconvert_exporter": "python",
   "pygments_lexer": "ipython3",
   "version": "3.11.5"
  }
 },
 "nbformat": 4,
 "nbformat_minor": 5
}
